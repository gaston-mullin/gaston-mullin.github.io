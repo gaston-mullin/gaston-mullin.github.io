{
 "cells": [
  {
   "cell_type": "markdown",
   "metadata": {},
   "source": [
    "# Day 3 - Lectures on Structural Econometrics for Dynamic Discrete Choice Models \n"
   ]
  },
  {
   "cell_type": "markdown",
   "metadata": {},
   "source": [
    "# 1 - Model\n",
    "\n",
    "We now investigate how conditional choice probability methods can be extended to the estimation of dynamic games. We focus on an entry and exit game, a canonical example within the IO literature that has been used frequently in applied work.\n",
    "\n",
    "The basic structure of the game is as follows:\n",
    "- Time $t$ is discrete, with $t = 1,2,\\dots,\\infty$.\n",
    "- There are $I$ firms in each market $m$, with $N_m$ markets total.\n",
    "- The environment is stationary (choice probabilities, state transitions, and flow utilities only depend on time through the realization of the state variable in that period).\n",
    "- Each period, firms (simultaneously) make decisions about whether to enter the market (if they are currently out of the market) or permanently exit the market (if they are currently an incumbent). A firm that exits that market is replaced next period by a potential entrant.\n",
    "- Firms have private information about their payoffs through an identically and independtly distributed random variable $\\epsilon_{jt}^{(i)}$ for each period $t$, firm $i$, and choice $j$.\n",
    "\n",
    "The primary difference between the single-agent framework and the multi-agent framework is that both agents' flow utilities and the evolution of state variables is determined by the realizations of the actions of all players. To account for this, our notation will adjust following Arcidiacono and Miller (2011) to \"big\" and \"little\" notation: \"big\" notation (capital letters) denotes flow utilities $U^{(i)}$, choice probabilities $P$, and state transitions $F_j$ for firm  conditional on the realizations for opponents' actions . Because these terms condition on the outcomes of decisions that firm  will not know when they make their own choice, due to the simultaneity of decisions, we need to integrate over the distributions of the vector of choices in order to obtain the \"little\" notation that we have used in previous notes."
   ]
  },
  {
   "cell_type": "markdown",
   "metadata": {},
   "source": [
    "Utility for firm $i$ to enter/remain in the market is given by:\n",
    "\n",
    "$$U^{(i)}_2(x_t^{(i)}, s_t^{(i)},d_t^{(-i)}) = \\theta_0 + \\theta_1 x_1 + \\theta_2 s_t + \\theta_3 \\sum_{i'\\neq i} d_{2t}^{(i')} + \\theta_4 (1-d_{2,t-1}^{(i)})$$\n",
    "\n",
    "Where $x_1$ is a permanent market characteristic affecting all firms, $s_t$ is a transitory market characteristic affecting all firms, $\\sum_{i'  \\neq i} d_{2t}^{(i')}$ is the sum of $i$'s (potential) competitors that are active in the market in period , and $\\theta_4$ captures the entry cost that firm  incurs if it was not active in the previous period.\n",
    "\n",
    "- Define $z_t$ to be the set of state variables. Consistent with our previous notation, let $p^{(i)}_{j}(z_t)$ be the probability that firm $i$ chooses choice $j$ conditional on state $z_t$.\n",
    "- The \"big P\" probability of observing a set of choices $d_t^{(-i)}$ from $i$'s competitors in period $t$ conditional on state $z_t$ is\n",
    "\n",
    "$$P(d_t^{(-i)} | z_t) = \\prod_{i'\\neq i} \\Big( \\sum_{j=1}^J d_{jt}^{(i')} p_j^{(i')}(z_t) \\Big)$$\n",
    "\n",
    "- Then we can express the expected flow payoff for firm $i$ from choosing $j$ in state $z_t$, net of the choice-specific private payoff term $\\epsilon_{jt}^{(i)}$, as:\n",
    "\n",
    "$$ u_j^{(i)}(z_t) = \\sum_{d_t^{(-i)} \\in J^{I-1}} P(d_t^{(-i)} | z_t) U_j^{(i)} (z_t, d_t^{(-i)})$$\n",
    "\n",
    "- Similarly, the distribution over next period's state variables when firm $i$ makes choice $j$, $f_j^{(i)}(z_{t+1} | z_t)$ , can be expressed as:\n",
    "\n",
    "$$ f_j^{(i)}(z_{t+1} | z_t) = \\sum_{d_t^{(-i)} \\in J^{I-1}} P(d_t^{(-i)} | z_t)  F_j(z_{t+1} | z_t, d_t^{(-i)})$$\n",
    "\n",
    "- These terms can be used to express the conditional value function $v_j^{(i)}(z_t)$ in a familiar form as:\n",
    "\n",
    "$$ v_j^{(i)}(z_t) = u_j^{(i)}(z_t) + \\beta \\sum_{z_{t+1}=1}^Z \\Big[ v_k^{(i)}(z_{t+1}) + \\psi_k[p^{(i)}(z_{t+1})] \\Big]f_j^{(i)}(z_{t+1} | z_t)$$\n",
    "\n",
    "- Assuming that $\\epsilon_{jt}^{(i)}$ are i.i.d. Type I Extreme Value and exploiting the terminal decision of exiting the market allows us to express the conditional value function using the one-period ahead conditional choice probabilities:\n",
    "\n",
    "$$ v_2^{(i)}(x_t,s_t) = u_2^{(i)}(x_t,s_t) - \\beta \\sum_{x_{t+1} \\in X} \\sum_{s_{t+1} \\in S} [\\log(p_1^{(i)}(x_{t+1},s_{t+1}) ] f_2^{(i)}(x_{t+1},s_{t+1} | x_t, s_t)$$"
   ]
  }
 ],
 "metadata": {
  "kernelspec": {
   "display_name": "Julia 1.9.4",
   "language": "julia",
   "name": "julia-1.9"
  },
  "language_info": {
   "file_extension": ".jl",
   "mimetype": "application/julia",
   "name": "julia",
   "version": "1.9.4"
  }
 },
 "nbformat": 4,
 "nbformat_minor": 2
}
